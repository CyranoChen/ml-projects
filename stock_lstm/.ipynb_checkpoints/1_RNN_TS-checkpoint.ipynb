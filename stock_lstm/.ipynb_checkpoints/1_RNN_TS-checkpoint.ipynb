{
 "cells": [
  {
   "cell_type": "code",
   "execution_count": 2,
   "metadata": {},
   "outputs": [],
   "source": [
    "import tensorflow as tf\n",
    "import pandas as pd\n",
    "import numpy as np\n",
    "import os\n",
    "import matplotlib\n",
    "import matplotlib.pyplot as plt\n",
    "import random\n",
    "%matplotlib inline\n",
    "import shutil\n",
    "import tensorflow.contrib.learn as tflearn\n",
    "import tensorflow.contrib.layers as tflayers\n",
    "from tensorflow.contrib.learn.python.learn import learn_runner\n",
    "import tensorflow.contrib.metrics as metrics\n",
    "import tensorflow.contrib.rnn as run"
   ]
  },
  {
   "cell_type": "code",
   "execution_count": 3,
   "metadata": {},
   "outputs": [
    {
     "data": {
      "image/png": "[encoded data removed]",
      "text/plain": [
       "<matplotlib.figure.Figure at 0x118a09da0>"
      ]
     },
     "metadata": {},
     "output_type": "display_data"
    }
   ],
   "source": [
    "random.seed(100)\n",
    "rng = pd.date_range(start='2000', periods =209,freq='M')\n",
    "ts = pd.Series(np.random.uniform(-10,10,size=len(rng)),rng).cumsum()\n",
    "ts.plot(c='b', title=\"Example\")\n",
    "plt.show()"
   ]
  },
  {
   "cell_type": "code",
   "execution_count": 4,
   "metadata": {},
   "outputs": [
    {
     "data": {
      "text/plain": [
       "2000-01-31     5.755144\n",
       "2000-02-29     0.764534\n",
       "2000-03-31     6.440626\n",
       "2000-04-30     3.672985\n",
       "2000-05-31     7.095207\n",
       "2000-06-30    10.469176\n",
       "2000-07-31     4.145920\n",
       "2000-08-31     2.085571\n",
       "2000-09-30    11.577473\n",
       "2000-10-31    12.546344\n",
       "Freq: M, dtype: float64"
      ]
     },
     "execution_count": 4,
     "metadata": {},
     "output_type": "execute_result"
    }
   ],
   "source": [
    "ts.head(10)"
   ]
  },
  {
   "cell_type": "code",
   "execution_count": 5,
   "metadata": {},
   "outputs": [
    {
     "name": "stdout",
     "output_type": "stream",
     "text": [
      "10\n",
      "(10, 20, 1)\n",
      "[[[  5.75514443]\n",
      "  [  0.76453356]\n",
      "  [  6.44062613]\n",
      "  [  3.67298453]\n",
      "  [  7.09520703]\n",
      "  [ 10.46917611]\n",
      "  [  4.14591992]\n",
      "  [  2.0855705 ]\n",
      "  [ 11.57747282]\n",
      "  [ 12.54634426]\n",
      "  [  8.16834181]\n",
      "  [  8.16142262]\n",
      "  [  5.37080552]\n",
      "  [ -2.82110821]\n",
      "  [ -6.16539049]\n",
      "  [  2.42079795]\n",
      "  [ -6.93173898]\n",
      "  [ -8.73117637]\n",
      "  [ -2.26416117]\n",
      "  [ -2.22329606]]]\n",
      "(10, 20, 1)\n",
      "[[[  0.76453356]\n",
      "  [  6.44062613]\n",
      "  [  3.67298453]\n",
      "  [  7.09520703]\n",
      "  [ 10.46917611]\n",
      "  [  4.14591992]\n",
      "  [  2.0855705 ]\n",
      "  [ 11.57747282]\n",
      "  [ 12.54634426]\n",
      "  [  8.16834181]\n",
      "  [  8.16142262]\n",
      "  [  5.37080552]\n",
      "  [ -2.82110821]\n",
      "  [ -6.16539049]\n",
      "  [  2.42079795]\n",
      "  [ -6.93173898]\n",
      "  [ -8.73117637]\n",
      "  [ -2.26416117]\n",
      "  [ -2.22329606]\n",
      "  [  7.17672687]]]\n"
     ]
    }
   ],
   "source": [
    "TS = np.array(ts)\n",
    "num_periods = 20  # 10 batches , 20 values per batch\n",
    "f_horizon = 1  # Forecast Horizon, 1 period into future\n",
    "\n",
    "x_data = TS[:(len(TS)-(len(TS) % num_periods))]    #x_data len is truncated from 209 to 200\n",
    "x_batches = x_data.reshape(-1,20,1)\n",
    "\n",
    "y_data = TS[1:(len(TS)-len(TS) % num_periods)+f_horizon]\n",
    "y_batches = y_data.reshape(-1,20,1)\n",
    "\n",
    "\n",
    "print(len(x_batches))\n",
    "print(x_batches.shape)\n",
    "print(x_batches[0:1])\n",
    "\n",
    "print(y_batches.shape)\n",
    "print(y_batches[0:1])\n"
   ]
  },
  {
   "cell_type": "code",
   "execution_count": 6,
   "metadata": {
    "collapsed": true
   },
   "outputs": [],
   "source": [
    "def test_data(series, forecast, num_periods):\n",
    "    test_x_setup = TS[-(num_periods+forecast):]\n",
    "    testX = test_x_setup[:num_periods].reshape(-1,20,1)\n",
    "    testY = TS[-(num_periods):].reshape(-1,20,1)\n",
    "    return testX, testY"
   ]
  },
  {
   "cell_type": "code",
   "execution_count": 7,
   "metadata": {},
   "outputs": [
    {
     "name": "stdout",
     "output_type": "stream",
     "text": [
      "(1, 20, 1)\n",
      "[[[ 74.94633131]\n",
      "  [ 80.91491968]\n",
      "  [ 89.0234327 ]\n",
      "  [ 81.01951472]\n",
      "  [ 77.68971497]\n",
      "  [ 82.95519136]\n",
      "  [ 87.91751767]\n",
      "  [ 88.59459935]\n",
      "  [ 83.44812054]\n",
      "  [ 75.50276422]\n",
      "  [ 66.24913592]\n",
      "  [ 58.11722546]\n",
      "  [ 50.43876351]\n",
      "  [ 48.03713164]\n",
      "  [ 45.04051972]\n",
      "  [ 47.54314951]\n",
      "  [ 43.54714661]\n",
      "  [ 37.66100752]\n",
      "  [ 37.55648757]\n",
      "  [ 39.00624069]]]\n",
      "(1, 20, 1)\n",
      "[[[ 80.91491968]\n",
      "  [ 89.0234327 ]\n",
      "  [ 81.01951472]\n",
      "  [ 77.68971497]\n",
      "  [ 82.95519136]\n",
      "  [ 87.91751767]\n",
      "  [ 88.59459935]\n",
      "  [ 83.44812054]\n",
      "  [ 75.50276422]\n",
      "  [ 66.24913592]\n",
      "  [ 58.11722546]\n",
      "  [ 50.43876351]\n",
      "  [ 48.03713164]\n",
      "  [ 45.04051972]\n",
      "  [ 47.54314951]\n",
      "  [ 43.54714661]\n",
      "  [ 37.66100752]\n",
      "  [ 37.55648757]\n",
      "  [ 39.00624069]\n",
      "  [ 43.92706063]]]\n"
     ]
    }
   ],
   "source": [
    "X_test, Y_test = test_data(TS, f_horizon, num_periods)\n",
    "print(X_test.shape)\n",
    "print(X_test)\n",
    "print(Y_test.shape)\n",
    "print(Y_test)"
   ]
  },
  {
   "cell_type": "code",
   "execution_count": 8,
   "metadata": {},
   "outputs": [],
   "source": [
    "tf.reset_default_graph()\n",
    "\n",
    "num_periods = 20  #number of periods per vector used to predict one period ahead\n",
    "inputs = 1        #number of vectors submitted \n",
    "hidden = 100      #number of neurons we will recursively work through\n",
    "output = 1        #number of output vector\n",
    "\n",
    "X = tf.placeholder(tf.float32, [None, num_periods, inputs ])\n",
    "y = tf.placeholder(tf.float32, [None, num_periods, output ])\n",
    "\n",
    "basic_cell = tf.contrib.rnn.BasicRNNCell(num_units=hidden, activation=tf.nn.relu)\n",
    "rnn_output, states = tf.nn.dynamic_rnn(basic_cell, X, dtype=tf.float32)   # dynamic instead of static\n",
    "\n",
    "learning_rate =0.001\n",
    "\n",
    "stacked_rnn_output = tf.reshape(rnn_output,[-1, hidden])     # changed the form into a tensor\n",
    "stacked_outputs = tf.layers.dense(stacked_rnn_output, output)  # GD\n",
    "outputs = tf.reshape(stacked_outputs, [-1, num_periods, output]) # shape of the results\n",
    "\n",
    "loss = tf.reduce_sum(tf.square(outputs - y))\n",
    "optimizer = tf.train.AdamOptimizer(learning_rate = learning_rate)\n",
    "training_op = optimizer.minimize(loss)\n",
    "\n",
    "init = tf.global_variables_initializer()\n",
    "\n",
    "\n"
   ]
  },
  {
   "cell_type": "code",
   "execution_count": 8,
   "metadata": {},
   "outputs": [
    {
     "name": "stdout",
     "output_type": "stream",
     "text": [
      "0 \tMSE: 765409.0\n",
      "100 \tMSE: 31162.0\n",
      "200 \tMSE: 11401.0\n",
      "300 \tMSE: 3076.98\n",
      "400 \tMSE: 1941.4\n",
      "500 \tMSE: 1671.25\n",
      "600 \tMSE: 1485.69\n",
      "700 \tMSE: 1352.48\n",
      "800 \tMSE: 1289.83\n",
      "900 \tMSE: 1219.85\n",
      "1000 \tMSE: 1189.04\n",
      "1100 \tMSE: 1105.01\n",
      "1200 \tMSE: 1066.83\n",
      "1300 \tMSE: 1076.05\n",
      "1400 \tMSE: 1021.56\n",
      "1500 \tMSE: 990.767\n",
      "1600 \tMSE: 965.231\n",
      "1700 \tMSE: 944.076\n",
      "1800 \tMSE: 927.123\n",
      "1900 \tMSE: 902.526\n",
      "[[[ 102.64790344]\n",
      "  [  90.19619751]\n",
      "  [  79.13625336]\n",
      "  [ 100.20591736]\n",
      "  [ 108.88659668]\n",
      "  [ 118.10102081]\n",
      "  [  75.19831085]\n",
      "  [  96.13349152]\n",
      "  [  90.03050232]\n",
      "  [ 101.9127121 ]\n",
      "  [  80.56259918]\n",
      "  [  68.80857849]\n",
      "  [  76.04837036]\n",
      "  [  51.8703804 ]\n",
      "  [  54.37711334]\n",
      "  [  72.14997864]\n",
      "  [  66.655159  ]\n",
      "  [  55.82453537]\n",
      "  [  51.15909195]\n",
      "  [  70.43699646]]]\n"
     ]
    }
   ],
   "source": [
    "epochs = 2000\n",
    "\n",
    "with tf.Session() as sess:\n",
    "    init.run()\n",
    "    for i in range(epochs):\n",
    "        sess.run(training_op, feed_dict={X: x_batches, y:y_batches})\n",
    "        if i % 100 == 0:\n",
    "            mse = loss.eval(feed_dict={X:x_batches, y:y_batches})\n",
    "            print(i, \"\\tMSE:\", mse)\n",
    "    y_pred = sess.run(outputs, feed_dict={X: X_test})\n",
    "    print(y_pred)\n",
    "        \n"
   ]
  },
  {
   "cell_type": "code",
   "execution_count": 9,
   "metadata": {},
   "outputs": [
    {
     "data": {
      "image/png": "[encoded data removed]",
      "text/plain": [
       "<matplotlib.figure.Figure at 0x11fc25c50>"
      ]
     },
     "metadata": {},
     "output_type": "display_data"
    }
   ],
   "source": [
    "plt.title(\"Forecast vs Actual\")\n",
    "\n",
    "plt.plot(pd.Series(np.ravel(Y_test)),\"bo\", markersize=10, label =\" Actual\")\n",
    "plt.plot(pd.Series(np.ravel(y_pred)),\"r.\", markersize=10, label =\" Forecast\")\n",
    "plt.legend(loc=\"lower left\")\n",
    "\n",
    "plt.show()"
   ]
  },
  {
   "cell_type": "code",
   "execution_count": null,
   "metadata": {},
   "outputs": [],
   "source": []
  },
  {
   "cell_type": "code",
   "execution_count": null,
   "metadata": {},
   "outputs": [],
   "source": []
  },
  {
   "cell_type": "code",
   "execution_count": null,
   "metadata": {},
   "outputs": [],
   "source": []
  },
  {
   "cell_type": "code",
   "execution_count": null,
   "metadata": {
    "collapsed": true
   },
   "outputs": [],
   "source": []
  }
 ],
 "metadata": {
  "anaconda-cloud": {},
  "kernelspec": {
   "display_name": "Python 3",
   "language": "python",
   "name": "python3"
  },
  "language_info": {
   "codemirror_mode": {
    "name": "ipython",
    "version": 3
   },
   "file_extension": ".py",
   "mimetype": "text/x-python",
   "name": "python",
   "nbconvert_exporter": "python",
   "pygments_lexer": "ipython3",
   "version": "3.6.1"
  }
 },
 "nbformat": 4,
 "nbformat_minor": 1
}
