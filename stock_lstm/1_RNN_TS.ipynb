{
 "cells": [
  {
   "cell_type": "code",
   "execution_count": 1,
   "metadata": {
    "collapsed": false
   },
   "outputs": [],
   "source": [
    "import tensorflow as tf\n",
    "import pandas as pd\n",
    "import numpy as np\n",
    "import os\n",
    "import matplotlib\n",
    "import matplotlib.pyplot as plt\n",
    "import random\n",
    "%matplotlib inline\n",
    "import shutil\n",
    "import tensorflow.contrib.learn as tflearn\n",
    "import tensorflow.contrib.layers as tflayers\n",
    "from tensorflow.contrib.learn.python.learn import learn_runner\n",
    "import tensorflow.contrib.metrics as metrics\n",
    "import tensorflow.contrib.rnn as run"
   ]
  },
  {
   "cell_type": "code",
   "execution_count": 2,
   "metadata": {
    "collapsed": false
   },
   "outputs": [
    {
     "data": {
      "image/png": "[encoded data removed]",
      "text/plain": [
       "<matplotlib.figure.Figure at 0x11fb6f710>"
      ]
     },
     "metadata": {},
     "output_type": "display_data"
    }
   ],
   "source": [
    "random.seed(100)\n",
    "rng = pd.date_range(start='2000', periods =209,freq='M')\n",
    "ts = pd.Series(np.random.uniform(-10,10,size=len(rng)),rng).cumsum()\n",
    "ts.plot(c='b', title=\"Example\")\n",
    "plt.show()"
   ]
  },
  {
   "cell_type": "code",
   "execution_count": 3,
   "metadata": {
    "collapsed": false
   },
   "outputs": [
    {
     "data": {
      "text/plain": [
       "2000-01-31     1.897425\n",
       "2000-02-29    11.307990\n",
       "2000-03-31    15.232792\n",
       "2000-04-30     6.247480\n",
       "2000-05-31     9.845846\n",
       "2000-06-30    19.760862\n",
       "2000-07-31    11.624841\n",
       "2000-08-31     9.742425\n",
       "2000-09-30     7.157436\n",
       "2000-10-31     0.995948\n",
       "Freq: M, dtype: float64"
      ]
     },
     "execution_count": 3,
     "metadata": {},
     "output_type": "execute_result"
    }
   ],
   "source": [
    "ts.head(10)"
   ]
  },
  {
   "cell_type": "code",
   "execution_count": 4,
   "metadata": {
    "collapsed": false
   },
   "outputs": [
    {
     "name": "stdout",
     "output_type": "stream",
     "text": [
      "10\n",
      "(10, 20, 1)\n",
      "[[[  1.89742484]\n",
      "  [ 11.30798974]\n",
      "  [ 15.23279241]\n",
      "  [  6.24748048]\n",
      "  [  9.84584644]\n",
      "  [ 19.76086173]\n",
      "  [ 11.62484131]\n",
      "  [  9.74242527]\n",
      "  [  7.15743636]\n",
      "  [  0.99594764]\n",
      "  [  4.52300958]\n",
      "  [  3.01364628]\n",
      "  [  6.94141996]\n",
      "  [  0.07114362]\n",
      "  [  8.027211  ]\n",
      "  [ 15.7337816 ]\n",
      "  [ 23.88059144]\n",
      "  [ 15.47129822]\n",
      "  [ 14.37843759]\n",
      "  [ 19.91388049]]]\n",
      "(10, 20, 1)\n",
      "[[[ 11.30798974]\n",
      "  [ 15.23279241]\n",
      "  [  6.24748048]\n",
      "  [  9.84584644]\n",
      "  [ 19.76086173]\n",
      "  [ 11.62484131]\n",
      "  [  9.74242527]\n",
      "  [  7.15743636]\n",
      "  [  0.99594764]\n",
      "  [  4.52300958]\n",
      "  [  3.01364628]\n",
      "  [  6.94141996]\n",
      "  [  0.07114362]\n",
      "  [  8.027211  ]\n",
      "  [ 15.7337816 ]\n",
      "  [ 23.88059144]\n",
      "  [ 15.47129822]\n",
      "  [ 14.37843759]\n",
      "  [ 19.91388049]\n",
      "  [ 21.43171046]]]\n"
     ]
    }
   ],
   "source": [
    "TS = np.array(ts)\n",
    "num_periods = 20  # 10 batches , 20 values per batch\n",
    "f_horizon = 1  # Forecast Horizon, 1 period into future\n",
    "\n",
    "x_data = TS[:(len(TS)-(len(TS) % num_periods))]    #x_data len is truncated from 209 to 200\n",
    "x_batches = x_data.reshape(-1,20,1)\n",
    "\n",
    "y_data = TS[1:(len(TS)-len(TS) % num_periods)+f_horizon]\n",
    "y_batches = y_data.reshape(-1,20,1)\n",
    "\n",
    "\n",
    "print(len(x_batches))\n",
    "print(x_batches.shape)\n",
    "print(x_batches[0:1])\n",
    "\n",
    "print(y_batches.shape)\n",
    "print(y_batches[0:1])\n"
   ]
  },
  {
   "cell_type": "code",
   "execution_count": 5,
   "metadata": {
    "collapsed": true
   },
   "outputs": [],
   "source": [
    "def test_data(series, forecast, num_periods):\n",
    "    test_x_setup = TS[-(num_periods+forecast):]\n",
    "    testX = test_x_setup[:num_periods].reshape(-1,20,1)\n",
    "    testY = TS[-(num_periods):].reshape(-1,20,1)\n",
    "    return testX, testY"
   ]
  },
  {
   "cell_type": "code",
   "execution_count": 6,
   "metadata": {
    "collapsed": false
   },
   "outputs": [
    {
     "name": "stdout",
     "output_type": "stream",
     "text": [
      "(1, 20, 1)\n",
      "[[[  98.84949165]\n",
      "  [  92.71270293]\n",
      "  [  85.44393039]\n",
      "  [  94.38578174]\n",
      "  [ 101.45883835]\n",
      "  [ 101.17726902]\n",
      "  [  94.99281899]\n",
      "  [  86.12641899]\n",
      "  [  91.271071  ]\n",
      "  [  88.36444004]\n",
      "  [  86.50958113]\n",
      "  [  77.92995455]\n",
      "  [  70.64467864]\n",
      "  [  62.50416101]\n",
      "  [  66.30101712]\n",
      "  [  67.65221891]\n",
      "  [  57.76316306]\n",
      "  [  53.49751889]\n",
      "  [  56.74370161]\n",
      "  [  58.58125417]]]\n",
      "(1, 20, 1)\n",
      "[[[  92.71270293]\n",
      "  [  85.44393039]\n",
      "  [  94.38578174]\n",
      "  [ 101.45883835]\n",
      "  [ 101.17726902]\n",
      "  [  94.99281899]\n",
      "  [  86.12641899]\n",
      "  [  91.271071  ]\n",
      "  [  88.36444004]\n",
      "  [  86.50958113]\n",
      "  [  77.92995455]\n",
      "  [  70.64467864]\n",
      "  [  62.50416101]\n",
      "  [  66.30101712]\n",
      "  [  67.65221891]\n",
      "  [  57.76316306]\n",
      "  [  53.49751889]\n",
      "  [  56.74370161]\n",
      "  [  58.58125417]\n",
      "  [  61.38199584]]]\n"
     ]
    }
   ],
   "source": [
    "X_test, Y_test = test_data(TS, f_horizon, num_periods)\n",
    "print(X_test.shape)\n",
    "print(X_test)\n",
    "print(Y_test.shape)\n",
    "print(Y_test)"
   ]
  },
  {
   "cell_type": "code",
   "execution_count": 7,
   "metadata": {
    "collapsed": false
   },
   "outputs": [],
   "source": [
    "tf.reset_default_graph()\n",
    "\n",
    "num_periods = 20  #number of periods per vector used to predict one period ahead\n",
    "inputs = 1        #number of vectors submitted \n",
    "hidden = 100      #number of neurons we will recursively work through\n",
    "output = 1        #number of output vector\n",
    "\n",
    "X = tf.placeholder(tf.float32, [None, num_periods, inputs ])\n",
    "y = tf.placeholder(tf.float32, [None, num_periods, output ])\n",
    "\n",
    "basic_cell = tf.contrib.rnn.BasicRNNCell(num_units=hidden, activation=tf.nn.relu)\n",
    "rnn_output, states = tf.nn.dynamic_rnn(basic_cell, X, dtype=tf.float32)   # dynamic instead of static\n",
    "\n",
    "learning_rate =0.001\n",
    "\n",
    "stacked_rnn_output = tf.reshape(rnn_output,[-1, hidden])     # changed the form into a tensor\n",
    "stacked_outputs = tf.layers.dense(stacked_rnn_output, output)  # GD\n",
    "outputs = tf.reshape(stacked_outputs, [-1, num_periods, output]) # shape of the results\n",
    "\n",
    "loss = tf.reduce_sum(tf.square(outputs - y))\n",
    "optimizer = tf.train.AdamOptimizer(learning_rate = learning_rate)\n",
    "training_op = optimizer.minimize(loss)\n",
    "\n",
    "init = tf.global_variables_initializer()\n",
    "\n",
    "\n"
   ]
  },
  {
   "cell_type": "code",
   "execution_count": 8,
   "metadata": {
    "collapsed": false
   },
   "outputs": [
    {
     "name": "stdout",
     "output_type": "stream",
     "text": [
      "0 \tMSE: 765409.0\n",
      "100 \tMSE: 31162.0\n",
      "200 \tMSE: 11401.0\n",
      "300 \tMSE: 3076.98\n",
      "400 \tMSE: 1941.4\n",
      "500 \tMSE: 1671.25\n",
      "600 \tMSE: 1485.69\n",
      "700 \tMSE: 1352.48\n",
      "800 \tMSE: 1289.83\n",
      "900 \tMSE: 1219.85\n",
      "1000 \tMSE: 1189.04\n",
      "1100 \tMSE: 1105.01\n",
      "1200 \tMSE: 1066.83\n",
      "1300 \tMSE: 1076.05\n",
      "1400 \tMSE: 1021.56\n",
      "1500 \tMSE: 990.767\n",
      "1600 \tMSE: 965.231\n",
      "1700 \tMSE: 944.076\n",
      "1800 \tMSE: 927.123\n",
      "1900 \tMSE: 902.526\n",
      "[[[ 102.64790344]\n",
      "  [  90.19619751]\n",
      "  [  79.13625336]\n",
      "  [ 100.20591736]\n",
      "  [ 108.88659668]\n",
      "  [ 118.10102081]\n",
      "  [  75.19831085]\n",
      "  [  96.13349152]\n",
      "  [  90.03050232]\n",
      "  [ 101.9127121 ]\n",
      "  [  80.56259918]\n",
      "  [  68.80857849]\n",
      "  [  76.04837036]\n",
      "  [  51.8703804 ]\n",
      "  [  54.37711334]\n",
      "  [  72.14997864]\n",
      "  [  66.655159  ]\n",
      "  [  55.82453537]\n",
      "  [  51.15909195]\n",
      "  [  70.43699646]]]\n"
     ]
    }
   ],
   "source": [
    "epochs = 2000\n",
    "\n",
    "with tf.Session() as sess:\n",
    "    init.run()\n",
    "    for i in range(epochs):\n",
    "        sess.run(training_op, feed_dict={X: x_batches, y:y_batches})\n",
    "        if i % 100 == 0:\n",
    "            mse = loss.eval(feed_dict={X:x_batches, y:y_batches})\n",
    "            print(i, \"\\tMSE:\", mse)\n",
    "    y_pred = sess.run(outputs, feed_dict={X: X_test})\n",
    "    print(y_pred)\n",
    "        \n"
   ]
  },
  {
   "cell_type": "code",
   "execution_count": 9,
   "metadata": {
    "collapsed": false
   },
   "outputs": [
    {
     "data": {
      "image/png": "[encoded data removed]",
      "text/plain": [
       "<matplotlib.figure.Figure at 0x11fc25c50>"
      ]
     },
     "metadata": {},
     "output_type": "display_data"
    }
   ],
   "source": [
    "plt.title(\"Forecast vs Actual\")\n",
    "\n",
    "plt.plot(pd.Series(np.ravel(Y_test)),\"bo\", markersize=10, label =\" Actual\")\n",
    "plt.plot(pd.Series(np.ravel(y_pred)),\"r.\", markersize=10, label =\" Forecast\")\n",
    "plt.legend(loc=\"lower left\")\n",
    "\n",
    "plt.show()"
   ]
  },
  {
   "cell_type": "code",
   "execution_count": null,
   "metadata": {
    "collapsed": false
   },
   "outputs": [],
   "source": []
  },
  {
   "cell_type": "code",
   "execution_count": null,
   "metadata": {
    "collapsed": false
   },
   "outputs": [],
   "source": []
  },
  {
   "cell_type": "code",
   "execution_count": null,
   "metadata": {
    "collapsed": false
   },
   "outputs": [],
   "source": []
  },
  {
   "cell_type": "code",
   "execution_count": null,
   "metadata": {
    "collapsed": true
   },
   "outputs": [],
   "source": []
  }
 ],
 "metadata": {
  "anaconda-cloud": {},
  "kernelspec": {
   "display_name": "Python [default]",
   "language": "python",
   "name": "python3"
  },
  "language_info": {
   "codemirror_mode": {
    "name": "ipython",
    "version": 3
   },
   "file_extension": ".py",
   "mimetype": "text/x-python",
   "name": "python",
   "nbconvert_exporter": "python",
   "pygments_lexer": "ipython3",
   "version": "3.5.2"
  }
 },
 "nbformat": 4,
 "nbformat_minor": 1
}
