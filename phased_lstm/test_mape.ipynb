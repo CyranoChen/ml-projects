{
 "cells": [
  {
   "cell_type": "code",
   "execution_count": 3,
   "metadata": {
    "collapsed": true
   },
   "outputs": [],
   "source": [
    "import matplotlib.pyplot as plt\n",
    "import numpy as np"
   ]
  },
  {
   "cell_type": "code",
   "execution_count": 13,
   "metadata": {},
   "outputs": [
    {
     "name": "stdout",
     "output_type": "stream",
     "text": [
      "[1]\n",
      "[ 1.1  1.2  1.3  1.4  1.5]\n",
      "[ 0.1  0.2  0.3  0.4  0.5]\n",
      "[[ 0.1       ]\n",
      " [ 0.4       ]\n",
      " [ 0.56666667]\n",
      " [ 0.65      ]\n",
      " [ 0.7       ]]\n",
      "Test Score: 0.300 MAPE\n",
      "Test Score: 0.483 MAPE\n"
     ]
    }
   ],
   "source": [
    "testY_raw = np.array([[1],[2],[3],[4],[5]])\n",
    "testPredict = np.array([[1.1],[1.2],[1.3],[1.4],[1.5]])\n",
    "\n",
    "print(testY_raw[0])\n",
    "print(testPredict[:,0])\n",
    "print(abs((testY_raw[0]-testPredict[:,0])))\n",
    "print(abs((testY_raw-testPredict)/testY_raw))\n",
    "\n",
    "testScore = np.mean(abs((testY_raw[0]-testPredict[:,0])/testY_raw[0]))\n",
    "print('Test Score: %.3f MAPE' % (testScore))\n",
    "\n",
    "testScore = np.mean(abs((testY_raw-testPredict)/testY_raw))\n",
    "print('Test Score: %.3f MAPE' % (testScore))"
   ]
  },
  {
   "cell_type": "code",
   "execution_count": null,
   "metadata": {
    "collapsed": true
   },
   "outputs": [],
   "source": []
  }
 ],
 "metadata": {
  "kernelspec": {
   "display_name": "Python 3",
   "language": "python",
   "name": "python3"
  },
  "language_info": {
   "codemirror_mode": {
    "name": "ipython",
    "version": 3
   },
   "file_extension": ".py",
   "mimetype": "text/x-python",
   "name": "python",
   "nbconvert_exporter": "python",
   "pygments_lexer": "ipython3",
   "version": "3.6.2"
  }
 },
 "nbformat": 4,
 "nbformat_minor": 2
}
