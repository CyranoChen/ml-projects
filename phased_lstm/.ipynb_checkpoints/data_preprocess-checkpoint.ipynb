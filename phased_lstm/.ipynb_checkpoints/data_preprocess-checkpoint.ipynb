{
 "cells": [
  {
   "cell_type": "code",
   "execution_count": 2,
   "metadata": {},
   "outputs": [],
   "source": [
    "import pandas as pd"
   ]
  },
  {
   "cell_type": "code",
   "execution_count": 7,
   "metadata": {
    "scrolled": true
   },
   "outputs": [],
   "source": [
    "#数据集读取及预处理\n",
    "def read_data(filepath):\n",
    "    print(filepath)\n",
    "    \n",
    "    #读取原始数据集，保留原始数据文件，日期格式转换，设置日期为索引列\n",
    "    data_raw = pd.read_csv(filepath_or_buffer=filepath, usecols=['DATE','DAILY_NET_SALES_UOM_QTY'], \n",
    "                           parse_dates={'Timeline':['DATE']}, index_col='Timeline')\n",
    "\n",
    "    #原始数据集基本信息\n",
    "    #print(data_raw['2010-09-06'])\n",
    "    print('shape before dropna:', data_raw.shape)\n",
    "\n",
    "    #去除qty值为NaN的行，*另可考虑填充均值\n",
    "    data_raw = data_raw.dropna()\n",
    "    #pandas 0.20版本，sort() => sort_index()，按日期排序\n",
    "    data_raw = data_raw.sort_index()\n",
    "\n",
    "    print('shape after dropna:', data_raw.shape)\n",
    "    \n",
    "    #原始数据集基本信息\n",
    "    print(data_raw.describe())\n",
    "\n",
    "    #显示前10行，无Nan值\n",
    "    #print(data_raw[:10])\n",
    "    \n",
    "    return data_raw"
   ]
  },
  {
   "cell_type": "code",
   "execution_count": 8,
   "metadata": {},
   "outputs": [
    {
     "name": "stdout",
     "output_type": "stream",
     "text": [
      "train_data_mv.csv\n",
      "shape before dropna: (2445, 1)\n",
      "shape after dropna: (2358, 1)\n",
      "       DAILY_NET_SALES_UOM_QTY\n",
      "count              2358.000000\n",
      "mean                186.195081\n",
      "std                  75.433074\n",
      "min                  52.000000\n",
      "25%                 143.000000\n",
      "50%                 172.000000\n",
      "75%                 210.000000\n",
      "max                 901.000000\n",
      "test_data_mv.csv\n",
      "shape before dropna: (120, 1)\n",
      "shape after dropna: (119, 1)\n",
      "       DAILY_NET_SALES_UOM_QTY\n",
      "count               119.000000\n",
      "mean                317.411765\n",
      "std                 108.731859\n",
      "min                 168.000000\n",
      "25%                 253.000000\n",
      "50%                 281.000000\n",
      "75%                 338.000000\n",
      "max                 718.000000\n",
      "            DAILY_NET_SALES_UOM_QTY\n",
      "Timeline                           \n",
      "2010-09-01                    222.0\n",
      "2010-09-02                    207.0\n",
      "2010-09-03                    292.0\n",
      "2010-09-04                    221.0\n",
      "2010-09-05                    214.0\n",
      "2010-09-07                    344.0\n",
      "2010-09-08                    304.0\n",
      "2010-09-09                    313.0\n",
      "2010-09-10                    271.0\n",
      "2010-09-11                    291.0\n",
      "            DAILY_NET_SALES_UOM_QTY\n",
      "Timeline                           \n",
      "2017-04-01                    590.0\n",
      "2017-04-02                    664.0\n",
      "2017-04-03                    617.0\n",
      "2017-04-04                    486.0\n",
      "2017-04-05                    516.0\n",
      "2017-04-06                    474.0\n",
      "2017-04-07                    512.0\n",
      "2017-04-08                    581.0\n",
      "2017-04-09                    622.0\n",
      "2017-04-10                    574.0\n"
     ]
    }
   ],
   "source": [
    "if __name__ == \"__main__\":   \n",
    "    train_set = read_data('train_data_mv.csv')\n",
    "    \n",
    "    test_set = read_data('test_data_mv.csv')\n",
    "    \n",
    "    print(train_set[:10])\n",
    "    print(test_set[:10])"
   ]
  },
  {
   "cell_type": "code",
   "execution_count": null,
   "metadata": {
    "collapsed": true
   },
   "outputs": [],
   "source": []
  }
 ],
 "metadata": {
  "kernelspec": {
   "display_name": "Python 3",
   "language": "python",
   "name": "python3"
  },
  "language_info": {
   "codemirror_mode": {
    "name": "ipython",
    "version": 3
   },
   "file_extension": ".py",
   "mimetype": "text/x-python",
   "name": "python",
   "nbconvert_exporter": "python",
   "pygments_lexer": "ipython3",
   "version": "3.6.2"
  }
 },
 "nbformat": 4,
 "nbformat_minor": 2
}
