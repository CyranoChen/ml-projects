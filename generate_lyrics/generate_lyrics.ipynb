{
 "cells": [
  {
   "cell_type": "markdown",
   "metadata": {
    "deletable": true,
    "editable": true
   },
   "source": [
    "# 基于Embedding的RNN生成混搭歌词\n",
    "基于词粒度对RNN进行训练，文本采用中文歌词的分词文本。模型中加入Embedding层来降低输入词的维度。"
   ]
  },
  {
   "cell_type": "markdown",
   "metadata": {
    "deletable": true,
    "editable": true
   },
   "source": [
    "# 1 读取数据"
   ]
  },
  {
   "cell_type": "code",
   "execution_count": 1,
   "metadata": {
    "collapsed": true,
    "deletable": true,
    "editable": true
   },
   "outputs": [],
   "source": [
    "def load_data(fname):\n",
    "    with open(fname, 'r') as f:\n",
    "        text = f.read()\n",
    "    \n",
    "    data = text.split()\n",
    "    return data"
   ]
  },
  {
   "cell_type": "code",
   "execution_count": 4,
   "metadata": {
    "collapsed": false,
    "deletable": true,
    "editable": true
   },
   "outputs": [],
   "source": [
    "text = load_data('data/split.txt')"
   ]
  },
  {
   "cell_type": "code",
   "execution_count": 5,
   "metadata": {
    "collapsed": false,
    "deletable": true,
    "editable": true
   },
   "outputs": [
    {
     "name": "stdout",
     "output_type": "stream",
     "text": [
      "前10个词: ['疯狂', '世界', '.', '如果说', '了', '后悔', '.', '是不是', '一切', '就']\n"
     ]
    }
   ],
   "source": [
    "print(\"前10个词: {}\".format(text[:10]))"
   ]
  },
  {
   "cell_type": "markdown",
   "metadata": {
    "deletable": true,
    "editable": true
   },
   "source": [
    "# 2 数据预处理"
   ]
  },
  {
   "cell_type": "code",
   "execution_count": 6,
   "metadata": {
    "collapsed": true,
    "deletable": true,
    "editable": true
   },
   "outputs": [],
   "source": [
    "# 构造词典及映射\n",
    "vocab = set(text)\n",
    "vocab_to_int = {w: idx for idx, w in enumerate(vocab)}\n",
    "int_to_vocab = {idx: w for idx, w in enumerate(vocab)}"
   ]
  },
  {
   "cell_type": "code",
   "execution_count": 7,
   "metadata": {
    "collapsed": false,
    "deletable": true,
    "editable": true
   },
   "outputs": [
    {
     "name": "stdout",
     "output_type": "stream",
     "text": [
      "Total words: 103558\n",
      "Vocab size: 11143\n"
     ]
    }
   ],
   "source": [
    "print('Total words: {}'.format(len(text)))\n",
    "print('Vocab size: {}'.format(len(vocab)))"
   ]
  },
  {
   "cell_type": "code",
   "execution_count": 8,
   "metadata": {
    "collapsed": true,
    "deletable": true,
    "editable": true
   },
   "outputs": [],
   "source": [
    "# 转换文本为整数\n",
    "int_text = [vocab_to_int[w] for w in text]"
   ]
  },
  {
   "cell_type": "markdown",
   "metadata": {
    "deletable": true,
    "editable": true
   },
   "source": [
    "# 3 构建网络"
   ]
  },
  {
   "cell_type": "code",
   "execution_count": 9,
   "metadata": {
    "collapsed": true,
    "deletable": true,
    "editable": true
   },
   "outputs": [],
   "source": [
    "from distutils.version import LooseVersion\n",
    "import warnings\n",
    "import tensorflow as tf\n",
    "import numpy as np"
   ]
  },
  {
   "cell_type": "code",
   "execution_count": 10,
   "metadata": {
    "collapsed": false,
    "deletable": true,
    "editable": true
   },
   "outputs": [
    {
     "name": "stdout",
     "output_type": "stream",
     "text": [
      "TensorFlow版本: 1.0.0\n",
      "默认GPU设备: /gpu:0\n"
     ]
    }
   ],
   "source": [
    "# Check TensorFlow Version\n",
    "assert LooseVersion(tf.__version__) >= LooseVersion('1.0'), 'Please use TensorFlow version 1.0 or newer'\n",
    "print('TensorFlow版本: {}'.format(tf.__version__))\n",
    "\n",
    "# Check for a GPU\n",
    "if not tf.test.gpu_device_name():\n",
    "    warnings.warn('未发现GPU，请使用GPU进行训练！')\n",
    "else:\n",
    "    print('默认GPU设备: {}'.format(tf.test.gpu_device_name()))"
   ]
  },
  {
   "cell_type": "markdown",
   "metadata": {
    "deletable": true,
    "editable": true
   },
   "source": [
    "## 输入层"
   ]
  },
  {
   "cell_type": "code",
   "execution_count": 11,
   "metadata": {
    "collapsed": true,
    "deletable": true,
    "editable": true
   },
   "outputs": [],
   "source": [
    "def get_inputs():\n",
    "    '''\n",
    "    构建输入层\n",
    "    '''\n",
    "    inputs = tf.placeholder(tf.int32, [None, None], name='inputs')\n",
    "    targets = tf.placeholder(tf.int32, [None, None], name='targets')\n",
    "    learning_rate = tf.placeholder(tf.float32, name='learning_rate')\n",
    "    return inputs, targets, learning_rate"
   ]
  },
  {
   "cell_type": "markdown",
   "metadata": {
    "deletable": true,
    "editable": true
   },
   "source": [
    "## RNN Cell"
   ]
  },
  {
   "cell_type": "code",
   "execution_count": 63,
   "metadata": {
    "collapsed": true,
    "deletable": true,
    "editable": true
   },
   "outputs": [],
   "source": [
    "def get_init_cell(batch_size, rnn_size):\n",
    "    '''\n",
    "    构建堆叠RNN单元\n",
    "    \n",
    "    参数\n",
    "    ---\n",
    "    batch_size: 每个batch的大小\n",
    "    rnn_size: RNN隐层神经元个数\n",
    "    '''\n",
    "    lstm = tf.contrib.rnn.BasicLSTMCell(rnn_size)\n",
    "    cell = tf.contrib.rnn.MultiRNNCell([lstm])\n",
    "    \n",
    "    initial_state = cell.zero_state(batch_size, tf.float32)\n",
    "    initial_state = tf.identity(initial_state, 'initial_state')\n",
    "    return cell, initial_state"
   ]
  },
  {
   "cell_type": "markdown",
   "metadata": {
    "deletable": true,
    "editable": true
   },
   "source": [
    "# Word Embedding"
   ]
  },
  {
   "cell_type": "code",
   "execution_count": 64,
   "metadata": {
    "collapsed": true,
    "deletable": true,
    "editable": true
   },
   "outputs": [],
   "source": [
    "def get_embed(input_data, vocab_size, embed_dim):\n",
    "    '''\n",
    "    单词太多，需要进行embedding\n",
    "    \n",
    "    参数\n",
    "    ---\n",
    "    input_data: 输入的tensor\n",
    "    vocab_size: 词汇表大小\n",
    "    embed_dim: 嵌入维度\n",
    "    '''\n",
    "    embedding = tf.Variable(tf.random_uniform([vocab_size, embed_dim], -1, 1))\n",
    "    embed = tf.nn.embedding_lookup(embedding, input_data)\n",
    "    \n",
    "    return embed"
   ]
  },
  {
   "cell_type": "markdown",
   "metadata": {
    "deletable": true,
    "editable": true
   },
   "source": [
    "# Build RNN"
   ]
  },
  {
   "cell_type": "code",
   "execution_count": 65,
   "metadata": {
    "collapsed": true,
    "deletable": true,
    "editable": true
   },
   "outputs": [],
   "source": [
    "def build_rnn(cell, inputs):\n",
    "    '''\n",
    "    构建RNN模型\n",
    "    \n",
    "    参数:\n",
    "    ---\n",
    "    cell: RNN单元\n",
    "    inputs: 输入的batch\n",
    "    '''\n",
    "    outputs, final_state = tf.nn.dynamic_rnn(cell, inputs, dtype=tf.float32)\n",
    "    \n",
    "    final_state = tf.identity(final_state, 'final_state')\n",
    "    return outputs, final_state"
   ]
  },
  {
   "cell_type": "markdown",
   "metadata": {
    "deletable": true,
    "editable": true
   },
   "source": [
    "# Build Neural Network"
   ]
  },
  {
   "cell_type": "code",
   "execution_count": 66,
   "metadata": {
    "collapsed": true,
    "deletable": true,
    "editable": true
   },
   "outputs": [],
   "source": [
    "def build_nn(cell, rnn_size, input_data, vocab_size, embed_dim):\n",
    "    '''\n",
    "    构建神经网络，将RNN层与全连接层相连\n",
    "    \n",
    "    参数:\n",
    "    ---\n",
    "    cell: RNN单元\n",
    "    rnn_size: RNN隐层结点数量\n",
    "    input_data: input tensor\n",
    "    vocab_size\n",
    "    embed_dim: 嵌入层大小\n",
    "    \n",
    "    '''\n",
    "    embed = get_embed(input_data, vocab_size, embed_dim)\n",
    "    outputs, final_state = build_rnn(cell, embed)\n",
    "    \n",
    "    logits = tf.contrib.layers.fully_connected(outputs, vocab_size, activation_fn=None)\n",
    "    \n",
    "    return logits, final_state"
   ]
  },
  {
   "cell_type": "markdown",
   "metadata": {
    "deletable": true,
    "editable": true
   },
   "source": [
    "# 构造batch"
   ]
  },
  {
   "cell_type": "markdown",
   "metadata": {
    "deletable": true,
    "editable": true
   },
   "source": [
    "在这里，我们将采用以下方式进行batch的构造，如果我们有一个1-20的序列，传入参数batch_size=3, seq_length=2的话，希望返回以下一个四维的向量。\n",
    "\n",
    "分为了三个batch，每个batch中包含了输入和对应的目标输出。\n",
    "get_batches([1, 2, 3, 4, 5, 6, 7, 8, 9, 10, 11, 12, 13, 14, 15, 16, 17, 18, 19, 20], 3, 2)\n",
    "\n",
    "  # First Batch\n",
    "  [\n",
    "    # Batch of Input\n",
    "    [[ 1  2], [ 7  8], [13 14]]\n",
    "    # Batch of targets\n",
    "    [[ 2  3], [ 8  9], [14 15]]\n",
    "  ]\n",
    "\n",
    "  # Second Batch\n",
    "  [\n",
    "    # Batch of Input\n",
    "    [[ 3  4], [ 9 10], [15 16]]\n",
    "    # Batch of targets\n",
    "    [[ 4  5], [10 11], [16 17]]\n",
    "  ]\n",
    "\n",
    "  # Third Batch\n",
    "  [\n",
    "    # Batch of Input\n",
    "    [[ 5  6], [11 12], [17 18]]\n",
    "    # Batch of targets\n",
    "    [[ 6  7], [12 13], [18  1]]\n",
    "  ]\n",
    "]"
   ]
  },
  {
   "cell_type": "code",
   "execution_count": 67,
   "metadata": {
    "collapsed": true,
    "deletable": true,
    "editable": true
   },
   "outputs": [],
   "source": [
    "def get_batches(int_text, batch_size, seq_length):\n",
    "    '''\n",
    "    构造batch\n",
    "    '''\n",
    "    batch = batch_size * seq_length\n",
    "    n_batch = len(int_text) // batch\n",
    "    \n",
    "    int_text = np.array(int_text[:batch * n_batch]) # 保留能构成完整batch的数量\n",
    "    \n",
    "    int_text_targets = np.zeros_like(int_text)\n",
    "    int_text_targets[:-1], int_text_targets[-1] = int_text[1:], int_text[0]\n",
    "    \n",
    "    # 切分\n",
    "    x = np.split(int_text.reshape(batch_size, -1), n_batch, -1)\n",
    "    y = np.split(int_text_targets.reshape(batch_size, -1), n_batch, -1)\n",
    "    \n",
    "    return np.stack((x, y), axis=1) # 组合"
   ]
  },
  {
   "cell_type": "markdown",
   "metadata": {
    "deletable": true,
    "editable": true
   },
   "source": [
    "# 3 模型训练"
   ]
  },
  {
   "cell_type": "code",
   "execution_count": 68,
   "metadata": {
    "collapsed": true,
    "deletable": true,
    "editable": true
   },
   "outputs": [],
   "source": [
    "# Number of Epochs\n",
    "num_epochs = 100\n",
    "# Batch Size\n",
    "batch_size = 64\n",
    "# RNN Size\n",
    "rnn_size = 512\n",
    "# Embedding Dimension Size\n",
    "embed_dim = 200\n",
    "# Sequence Length\n",
    "seq_length = 20\n",
    "# Learning Rate\n",
    "learning_rate = 0.01\n",
    "# Show stats for every n number of batches\n",
    "show_every_n_batches = 100"
   ]
  },
  {
   "cell_type": "code",
   "execution_count": 69,
   "metadata": {
    "collapsed": false,
    "deletable": true,
    "editable": true
   },
   "outputs": [],
   "source": [
    "from tensorflow.contrib import seq2seq\n",
    "\n",
    "train_graph = tf.Graph()\n",
    "with train_graph.as_default():\n",
    "    vocab_size = len(int_to_vocab) # vocab_size\n",
    "    input_text, targets, lr = get_inputs() # 输入tensor\n",
    "    input_data_shape = tf.shape(input_text)\n",
    "    # 初始化RNN\n",
    "    cell, initial_state = get_init_cell(input_data_shape[0], rnn_size)\n",
    "    logits, final_state = build_nn(cell, rnn_size, input_text, vocab_size, embed_dim)\n",
    "\n",
    "    # 计算softmax层概率\n",
    "    probs = tf.nn.softmax(logits, name='probs')\n",
    "\n",
    "    # 损失函数\n",
    "    cost = seq2seq.sequence_loss(\n",
    "        logits,\n",
    "        targets,\n",
    "        tf.ones([input_data_shape[0], input_data_shape[1]]))\n",
    "\n",
    "    # 优化函数\n",
    "    optimizer = tf.train.AdamOptimizer(lr)\n",
    "\n",
    "    # Gradient Clipping\n",
    "    gradients = optimizer.compute_gradients(cost)\n",
    "    capped_gradients = [(tf.clip_by_value(grad, -1., 1.), var) for grad, var in gradients if grad is not None]\n",
    "    train_op = optimizer.apply_gradients(capped_gradients)"
   ]
  },
  {
   "cell_type": "code",
   "execution_count": 70,
   "metadata": {
    "collapsed": false,
    "deletable": true,
    "editable": true,
    "scrolled": true
   },
   "outputs": [
    {
     "name": "stdout",
     "output_type": "stream",
     "text": [
      "Epoch   0 Batch    0/80   train_loss = 9.318\n",
      "Epoch   1 Batch   20/80   train_loss = 5.227\n",
      "Epoch   2 Batch   40/80   train_loss = 3.993\n",
      "Epoch   3 Batch   60/80   train_loss = 2.916\n",
      "Epoch   5 Batch    0/80   train_loss = 2.104\n",
      "Epoch   6 Batch   20/80   train_loss = 1.980\n",
      "Epoch   7 Batch   40/80   train_loss = 1.770\n",
      "Epoch   8 Batch   60/80   train_loss = 1.329\n",
      "Epoch  10 Batch    0/80   train_loss = 1.064\n",
      "Epoch  11 Batch   20/80   train_loss = 0.848\n",
      "Epoch  12 Batch   40/80   train_loss = 0.723\n",
      "Epoch  13 Batch   60/80   train_loss = 0.528\n",
      "Epoch  15 Batch    0/80   train_loss = 0.480\n",
      "Epoch  16 Batch   20/80   train_loss = 0.480\n",
      "Epoch  17 Batch   40/80   train_loss = 0.394\n",
      "Epoch  18 Batch   60/80   train_loss = 0.364\n",
      "Epoch  20 Batch    0/80   train_loss = 0.410\n",
      "Epoch  21 Batch   20/80   train_loss = 0.451\n",
      "Epoch  22 Batch   40/80   train_loss = 0.568\n",
      "Epoch  23 Batch   60/80   train_loss = 0.858\n",
      "Epoch  25 Batch    0/80   train_loss = 1.164\n",
      "Epoch  26 Batch   20/80   train_loss = 1.154\n",
      "Epoch  27 Batch   40/80   train_loss = 0.991\n",
      "Epoch  28 Batch   60/80   train_loss = 0.718\n",
      "Epoch  30 Batch    0/80   train_loss = 0.573\n",
      "Epoch  31 Batch   20/80   train_loss = 0.539\n",
      "Epoch  32 Batch   40/80   train_loss = 0.388\n",
      "Epoch  33 Batch   60/80   train_loss = 0.327\n",
      "Epoch  35 Batch    0/80   train_loss = 0.275\n",
      "Epoch  36 Batch   20/80   train_loss = 0.277\n",
      "Epoch  37 Batch   40/80   train_loss = 0.235\n",
      "Epoch  38 Batch   60/80   train_loss = 0.212\n",
      "Epoch  40 Batch    0/80   train_loss = 0.222\n",
      "Epoch  41 Batch   20/80   train_loss = 0.238\n",
      "Epoch  42 Batch   40/80   train_loss = 0.209\n",
      "Epoch  43 Batch   60/80   train_loss = 0.199\n",
      "Epoch  45 Batch    0/80   train_loss = 0.216\n",
      "Epoch  46 Batch   20/80   train_loss = 0.219\n",
      "Epoch  47 Batch   40/80   train_loss = 0.208\n",
      "Epoch  48 Batch   60/80   train_loss = 0.189\n",
      "Epoch  50 Batch    0/80   train_loss = 0.212\n",
      "Epoch  51 Batch   20/80   train_loss = 0.221\n",
      "Epoch  52 Batch   40/80   train_loss = 0.204\n",
      "Epoch  53 Batch   60/80   train_loss = 0.192\n",
      "Epoch  55 Batch    0/80   train_loss = 0.215\n",
      "Epoch  56 Batch   20/80   train_loss = 0.237\n",
      "Epoch  57 Batch   40/80   train_loss = 0.205\n",
      "Epoch  58 Batch   60/80   train_loss = 0.188\n",
      "Epoch  60 Batch    0/80   train_loss = 0.212\n",
      "Epoch  61 Batch   20/80   train_loss = 0.228\n",
      "Epoch  62 Batch   40/80   train_loss = 0.206\n",
      "Epoch  63 Batch   60/80   train_loss = 0.200\n",
      "Epoch  65 Batch    0/80   train_loss = 0.615\n",
      "Epoch  66 Batch   20/80   train_loss = 4.094\n",
      "Epoch  67 Batch   40/80   train_loss = 2.902\n",
      "Epoch  68 Batch   60/80   train_loss = 1.954\n",
      "Epoch  70 Batch    0/80   train_loss = 1.383\n",
      "Epoch  71 Batch   20/80   train_loss = 1.094\n",
      "Epoch  72 Batch   40/80   train_loss = 0.864\n",
      "Epoch  73 Batch   60/80   train_loss = 0.633\n",
      "Epoch  75 Batch    0/80   train_loss = 0.502\n",
      "Epoch  76 Batch   20/80   train_loss = 0.487\n",
      "Epoch  77 Batch   40/80   train_loss = 0.390\n",
      "Epoch  78 Batch   60/80   train_loss = 0.314\n",
      "Epoch  80 Batch    0/80   train_loss = 0.305\n",
      "Epoch  81 Batch   20/80   train_loss = 0.332\n",
      "Epoch  82 Batch   40/80   train_loss = 0.264\n",
      "Epoch  83 Batch   60/80   train_loss = 0.240\n",
      "Epoch  85 Batch    0/80   train_loss = 0.249\n",
      "Epoch  86 Batch   20/80   train_loss = 0.268\n",
      "Epoch  87 Batch   40/80   train_loss = 0.234\n",
      "Epoch  88 Batch   60/80   train_loss = 0.206\n",
      "Epoch  90 Batch    0/80   train_loss = 0.232\n",
      "Epoch  91 Batch   20/80   train_loss = 0.240\n",
      "Epoch  92 Batch   40/80   train_loss = 0.228\n",
      "Epoch  93 Batch   60/80   train_loss = 0.201\n",
      "Epoch  95 Batch    0/80   train_loss = 0.224\n",
      "Epoch  96 Batch   20/80   train_loss = 0.246\n",
      "Epoch  97 Batch   40/80   train_loss = 0.221\n",
      "Epoch  98 Batch   60/80   train_loss = 0.198\n",
      "Model Trained and Saved\n"
     ]
    }
   ],
   "source": [
    "# 获取batch\n",
    "batches = get_batches(int_text, batch_size, seq_length)\n",
    "# 定义参数存储目录\n",
    "save_dir = './save'\n",
    "\n",
    "with tf.Session(graph=train_graph) as sess:\n",
    "    sess.run(tf.global_variables_initializer())\n",
    "\n",
    "    for epoch in range(num_epochs):\n",
    "        state = sess.run(initial_state, {input_text: batches[0][0]})\n",
    "\n",
    "        for batch_i, (x, y) in enumerate(batches):\n",
    "            feed = {\n",
    "                input_text: x,\n",
    "                targets: y,\n",
    "                initial_state: state,\n",
    "                lr: learning_rate}\n",
    "            train_loss, state, _ = sess.run([cost, final_state, train_op], feed)\n",
    "\n",
    "            # 每训练一定阶段对结果进行打印\n",
    "            if (epoch * len(batches) + batch_i) % show_every_n_batches == 0:\n",
    "                print('Epoch {:>3} Batch {:>4}/{}   train_loss = {:.3f}'.format(\n",
    "                    epoch,\n",
    "                    batch_i,\n",
    "                    len(batches),\n",
    "                    train_loss))\n",
    "    # 保存模型\n",
    "    saver = tf.train.Saver()\n",
    "    saver.save(sess, save_dir)\n",
    "    print('Model Trained and Saved')"
   ]
  },
  {
   "cell_type": "code",
   "execution_count": 71,
   "metadata": {
    "collapsed": true,
    "deletable": true,
    "editable": true
   },
   "outputs": [],
   "source": [
    "def get_tensors(loaded_graph):\n",
    "    '''\n",
    "    获取模型训练结果参数\n",
    "    \n",
    "    参数\n",
    "    ---\n",
    "    loaded_graph: 从文件加载的tensroflow graph\n",
    "    '''\n",
    "    inputs = loaded_graph.get_tensor_by_name('inputs:0')\n",
    "    initial_state = loaded_graph.get_tensor_by_name('initial_state:0')\n",
    "    final_state = loaded_graph.get_tensor_by_name('final_state:0')\n",
    "    probs = loaded_graph.get_tensor_by_name('probs:0')\n",
    "    return inputs, initial_state, final_state, probs"
   ]
  },
  {
   "cell_type": "code",
   "execution_count": 72,
   "metadata": {
    "collapsed": false,
    "deletable": true,
    "editable": true
   },
   "outputs": [],
   "source": [
    "def pick_word(probabilities, int_to_vocab):\n",
    "    '''\n",
    "    选择单词进行文本生成，用来以一定的概率生成下一个词\n",
    "    \n",
    "    参数\n",
    "    ---\n",
    "    probabilities: Probabilites of the next word\n",
    "    int_to_vocab: 映射表\n",
    "    '''\n",
    "    result = np.random.choice(len(probabilities), 50, p=probabilities)\n",
    "    return int_to_vocab[result[0]]"
   ]
  },
  {
   "cell_type": "code",
   "execution_count": 78,
   "metadata": {
    "collapsed": false,
    "deletable": true,
    "editable": true
   },
   "outputs": [
    {
     "name": "stdout",
     "output_type": "stream",
     "text": [
      "离开就说不要爱我掉进爱情悬崖跌太深爬不出来下降的速度太快那颜色我已全然龙你说我若一个人会比较自由我不懂你说什么反正不会松手我背你走到最后能不能别想太多会不会手牵着手晚一点才到尽头你说我说像手牵手\n",
      "距离的噪音化为乌有\n",
      "你说你说我听个够\n",
      "这世界，身邊還會有谁，都梦想没有那的你永远那么想你曾停下过吗你说你会哭不是因为在乎不是因为在乎不是因为在乎朦胧的时间\n",
      "和你都回来吧\n",
      "你的什么\n",
      "而你已经不爱我最安静都还不懂不想太多我已经\n",
      "是你把你万一没万一我我最的鱼自由\n",
      "我只想你\n",
      "笑为我\n",
      "听不到\n",
      "我想逃往哪里逃\n",
      "你都看不见你都要结束我不\n",
      "我就像\n",
      "不要说\n",
      "其实我的快乐不要问我不要问我我不要再想我的快乐为什么我却还在流\n",
      "爱是笑呵呵的风\n",
      "然后哎呀呀的痛\n",
      "直到你太多把我放\n",
      "如果你天生\n",
      "(间奏)我说你已经听你听我的把心你看宇宙(你在\n"
     ]
    }
   ],
   "source": [
    "# 生成文本的长度\n",
    "gen_length = 300\n",
    "\n",
    "# 定义冷启动的单词\n",
    "prime_word = '离开'\n",
    "\n",
    "loaded_graph = tf.Graph()\n",
    "with tf.Session(graph=loaded_graph) as sess:\n",
    "    # 加载模型\n",
    "    loader = tf.train.import_meta_graph(save_dir + '.meta')\n",
    "    loader.restore(sess, save_dir)\n",
    "\n",
    "    # 获取训练的结果参数\n",
    "    input_text, initial_state, final_state, probs = get_tensors(loaded_graph)\n",
    "\n",
    "    # Sentences generation setup\n",
    "    gen_sentences = [prime_word]\n",
    "    prev_state = sess.run(initial_state, {input_text: np.array([[1]])})\n",
    "\n",
    "    # 生成句子\n",
    "    for n in range(gen_length):\n",
    "        dyn_input = [[vocab_to_int[word] for word in gen_sentences[-seq_length:]]]\n",
    "        dyn_seq_length = len(dyn_input[0])\n",
    "\n",
    "        # 预测\n",
    "        probabilities, prev_state = sess.run(\n",
    "            [probs, final_state],\n",
    "            {input_text: dyn_input, initial_state: prev_state})\n",
    "        \n",
    "        pred_word = pick_word(probabilities[dyn_seq_length-1], int_to_vocab)\n",
    "\n",
    "        gen_sentences.append(pred_word)\n",
    "    \n",
    "    lyrics = ' '.join(gen_sentences)\n",
    "    lyrics = lyrics.replace(';', '\\n')\n",
    "    lyrics = lyrics.replace('.', ' ')\n",
    "    lyrics = lyrics.replace(' ', '')\n",
    "        \n",
    "    print(lyrics)"
   ]
  }
 ],
 "metadata": {
  "kernelspec": {
   "display_name": "Python 3",
   "language": "python",
   "name": "python3"
  },
  "language_info": {
   "codemirror_mode": {
    "name": "ipython",
    "version": 3
   },
   "file_extension": ".py",
   "mimetype": "text/x-python",
   "name": "python",
   "nbconvert_exporter": "python",
   "pygments_lexer": "ipython3",
   "version": "3.5.3"
  }
 },
 "nbformat": 4,
 "nbformat_minor": 2
}
